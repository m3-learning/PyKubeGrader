{
 "cells": [
  {
   "cell_type": "code",
   "execution_count": null,
   "metadata": {},
   "outputs": [],
   "source": [
    "from build.passwords import password, jupyterhub_user, user\n",
    "import requests\n",
    "from requests.auth import HTTPBasicAuth\n",
    "\n",
    "api_base_url = \"https://engr-131-api.eastus.cloudapp.azure.com/\""
   ]
  },
  {
   "cell_type": "code",
   "execution_count": null,
   "metadata": {},
   "outputs": [],
   "source": [
    "params = {\"username\": \"jca92\"}\n",
    "res = requests.get(\n",
    "    url=api_base_url.rstrip(\"/\") + \"/student-grades-testing\",\n",
    "    params=params,\n",
    "    auth=HTTPBasicAuth(user(), password()),\n",
    ")"
   ]
  },
  {
   "cell_type": "code",
   "execution_count": null,
   "metadata": {},
   "outputs": [],
   "source": [
    "api_base_url.rstrip(\"/\") + \"/student-grades-testing\""
   ]
  },
  {
   "cell_type": "code",
   "execution_count": null,
   "metadata": {},
   "outputs": [],
   "source": [
    "[assignments, sub] = res.json()"
   ]
  },
  {
   "cell_type": "code",
   "execution_count": null,
   "metadata": {},
   "outputs": [],
   "source": [
    "from grade_reports.grade_reports import get_student_grades"
   ]
  },
  {
   "cell_type": "code",
   "execution_count": null,
   "metadata": {},
   "outputs": [],
   "source": [
    "assignments, submissions = get_student_grades(\"jca92\")"
   ]
  },
  {
   "cell_type": "code",
   "execution_count": null,
   "metadata": {},
   "outputs": [],
   "source": [
    "submissions"
   ]
  },
  {
   "cell_type": "code",
   "execution_count": null,
   "metadata": {},
   "outputs": [],
   "source": [
    "import pandas as pd\n",
    "\n",
    "# Define custom sort order for 'Category'\n",
    "custom_order = [\"lecture\", \"homework\", \"lab\", \"attendance\", \"readings\", \"quiz\", \"practice quiz\" ]\n",
    "assignments[\"assignment_name\"] = pd.Categorical(assignments[\"assignment_name\"], categories=custom_order, ordered=True)\n",
    "\n",
    "# Sort by 'Category' (custom order) and then by 'Value'\n",
    "sorted_df = assignments.sort_values(by=[\"assignment_name\", \"week_number\"])\n",
    "\n",
    "\n",
    "# Get unique pairs of 'week_number' and 'assignment_name'\n",
    "unique_pairs = sorted_df[[\"week_number\", \"assignment_name\"]].drop_duplicates()\n",
    "\n",
    "# Build an iterator over the unique pairs\n",
    "pair_iterator = unique_pairs.itertuples(index=False, name=None)"
   ]
  },
  {
   "cell_type": "code",
   "execution_count": null,
   "metadata": {},
   "outputs": [],
   "source": [
    "# Filter rows matching each pair\n",
    "for week_number, assignment_name in pair_iterator:\n",
    "    matching_rows = sorted_df[\n",
    "        (sorted_df[\"week_number\"] == week_number)\n",
    "        & (sorted_df[\"assignment_name\"] == assignment_name)\n",
    "    ]\n",
    "    \n",
    "    # extracts the names of the assignments grades which are associated with a given assignment, this helps if two assignments have the same name.\n",
    "    title = matching_rows[\"title\"]\n",
    "    \n",
    "    # extracts the names of the assignments grades which are associated with a given assignment, this helps if two assignments have the same name.\n",
    "    for assignment_db_name in matching_rows[\"title\"]:\n",
    "        print(assignment_db_name)\n",
    "        # now we need the logic to get the best max score based on the assignment name and submission time. \n",
    "        \n",
    "        submissions[submissions[\"assignment\"]==assignment_db_name]\n",
    "    "
   ]
  },
  {
   "cell_type": "code",
   "execution_count": null,
   "metadata": {},
   "outputs": [],
   "source": [
    "sub"
   ]
  },
  {
   "cell_type": "code",
   "execution_count": null,
   "metadata": {},
   "outputs": [],
   "source": []
  }
 ],
 "metadata": {
  "kernelspec": {
   "display_name": "engr131_dev",
   "language": "python",
   "name": "python3"
  },
  "language_info": {
   "codemirror_mode": {
    "name": "ipython",
    "version": 3
   },
   "file_extension": ".py",
   "mimetype": "text/x-python",
   "name": "python",
   "nbconvert_exporter": "python",
   "pygments_lexer": "ipython3",
   "version": "3.12.7"
  }
 },
 "nbformat": 4,
 "nbformat_minor": 2
}
