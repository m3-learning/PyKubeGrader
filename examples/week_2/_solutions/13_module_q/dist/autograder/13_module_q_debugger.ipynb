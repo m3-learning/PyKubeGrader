{
 "cells": [
  {
   "cell_type": "markdown",
   "metadata": {},
   "source": [
    "# ❓ What is a Python Module?\n",
    "\n",
    "![](./assets/figures/avengers.webp)"
   ]
  },
  {
   "cell_type": "code",
   "execution_count": null,
   "metadata": {},
   "outputs": [],
   "source": [
    "# Run this block of code by pressing Shift + Enter to display the question\n",
    "from questions._13_module_q import Question1\n",
    "Question1().show()\n"
   ]
  },
  {
   "cell_type": "code",
   "execution_count": null,
   "metadata": {},
   "outputs": [],
   "source": [
    "# Run this block of code by pressing Shift + Enter to display the question\n",
    "from questions._13_module_q import Question2\n",
    "Question2().show()\n"
   ]
  },
  {
   "cell_type": "code",
   "execution_count": null,
   "metadata": {},
   "outputs": [],
   "source": [
    "# Run this block of code by pressing Shift + Enter to display the question\n",
    "from questions._13_module_q import Question3\n",
    "Question3().show()\n"
   ]
  },
  {
   "cell_type": "raw",
   "metadata": {},
   "source": [
    "# BEGIN QUESTION\n",
    "name: avengers-mission-modules"
   ]
  },
  {
   "cell_type": "markdown",
   "metadata": {},
   "source": [
    "# 🦸‍♂️ Avengers Mission: Python Modules!\n",
    "\n",
    "The Avengers need your coding skills to prepare for their next mission. Your task is to help them with three important calculations using Python’s **`math` module**.\n",
    "\n",
    "## Mission Objectives\n",
    "1. **Thor's Task**: Calculate the area of Mjolnir's circular base. The radius is 10 units. Use the formula for the area of a circle:  \n",
    "   \n",
    "   $\\text{Area} = \\pi \\times r^2$\n",
    "   \n",
    "   Use the constant `math.pi` and store the result in a variable named `hammer_area`.\n",
    "\n",
    "2. **Iron Man's Task**: Compute the cosine of 45 degrees to optimize his repulsor targeting system.  \n",
    "   - First, convert 45 degrees to radians using: \n",
    "    \n",
    "     $\\text{Radians} = \\text{Degrees} \\times \\frac{\\pi}{180}$\n",
    "  \n",
    "     Use the function `math.radians` to handle this conversion.  \n",
    "   - Then, calculate the cosine using `math.cos`.  \n",
    "   Store the result in a variable named `iron_cosine`.\n",
    "\n",
    "3. **Captain America's Task**: Determine the least common multiple (LCM) of 12 and 18 to synchronize the team's communication devices.  \n",
    "   - First, find the greatest common divisor (GCD) using `math.gcd`.  \n",
    "   - Then, calculate the LCM using the formula:  \n",
    "   \n",
    "     $\\text{LCM}(a, b) = \\frac{|a \\times b|}{\\text{GCD}(a, b)}$\n",
    "\n",
    "   Store the result in a variable named `cap_lcm`.\n",
    "\n",
    "## Requirements\n",
    "- Write a Python program to perform these calculations.\n",
    "- Use the **`math` module** to simplify your work.\n",
    "- Assign the results to the variables `hammer_area`, `iron_cosine`, and `cap_lcm`.\n",
    "- Print the results at the end of your program so the Avengers can see them.\n",
    "\n",
    "Now, go save the world with your coding skills! 🌟\n"
   ]
  },
  {
   "cell_type": "raw",
   "metadata": {},
   "source": [
    "# BEGIN SOLUTION"
   ]
  },
  {
   "cell_type": "code",
   "execution_count": null,
   "metadata": {},
   "outputs": [],
   "source": [
    "# Add your import statement here\n",
    "# BEGIN SOLUTION\n",
    "import math\n",
    "\n",
    "# END SOLUTION\n",
    "\n",
    "\n",
    "def avengers_assemble():\n",
    "    # Thor's hammer base area (circle area formula: πr²)\n",
    "    hammer_area = math.pi * (10**2)  # SOLUTION\n",
    "\n",
    "    # Iron Man's cosine calculation (convert degrees to radians first)\n",
    "    iron_cosine = math.cos(math.radians(45))  # SOLUTION\n",
    "\n",
    "    # Captain America's LCM calculation\n",
    "    # Find the LCM of 12 and 18\n",
    "    a = 12\n",
    "    b = 18\n",
    "    cap_lcm = abs(a * b) // math.gcd(a, b)  # SOLUTION\n",
    "\n",
    "    return hammer_area, iron_cosine, cap_lcm\n",
    "\n",
    "# Do not modify the code below this line\n",
    "# Print results\n",
    "hammer_area, iron_cosine, cap_lcm = avengers_assemble()\n",
    "\n",
    "\n",
    "print(f\"Mjolnir's base area: {hammer_area}\")\n",
    "print(f\"Iron Man's cosine of 45 degrees: {iron_cosine}\")\n",
    "print(f\"Captain America's LCM: {cap_lcm}\")"
   ]
  },
  {
   "cell_type": "raw",
   "metadata": {},
   "source": [
    "# END SOLUTION"
   ]
  },
  {
   "cell_type": "raw",
   "metadata": {},
   "source": [
    "# BEGIN TESTS"
   ]
  },
  {
   "cell_type": "code",
   "execution_count": null,
   "metadata": {},
   "outputs": [],
   "source": [
    "\"\"\" # BEGIN TEST CONFIG\n",
    "points: 1\n",
    "hidden: false\n",
    "success_message: Correctly calculated Thor's hammer area.\n",
    "failure_message: Thor's hammer area calculation is incorrect.\n",
    "\"\"\"  # END TEST CONFIG\n",
    "\n",
    "from pykubegrader.telemetry import (\n",
    "    ensure_responses,\n",
    "    log_variable,\n",
    "    score_question,\n",
    "    submit_question,\n",
    "    telemetry,\n",
    "    update_responses,\n",
    ")\n",
    "import os\n",
    "import base64\n",
    "import matplotlib\n",
    "import matplotlib\n",
    "max_question_points = str(3.0)\n",
    "earned_points = 0 \n",
    "os.environ['EARNED_POINTS'] = str(earned_points)\n",
    "os.environ['TOTAL_POINTS_FREE_RESPONSE'] = str(3.0)\n",
    "log_variable(\"total-points\",f\"week999-readings, 13_module_q\", 3.0)\n",
    "\n",
    "question_id = \"avengers-mission-modules-1\"\n",
    "max_score = 1.0\n",
    "score = 0\n",
    "matplotlib.use('Agg')\n",
    "\n",
    "# Call the function and capture return values\n",
    "hammer_area, _, _ = avengers_assemble()\n",
    "\n",
    "# Test for correct calculation of the area\n",
    "assert math.isclose(\n",
    "    hammer_area, 314.159, rel_tol=1e-3\n",
    "), \"Thor's hammer area calculation is incorrect.\"\n",
    "if (math.isclose( hammer_area, 314.159, rel_tol=1e-3 )):\n",
    "    score = 1.0\n",
    "\n",
    "earned_points = float(os.environ.get('EARNED_POINTS', 0))\n",
    "earned_points += score\n",
    "log_variable(\"13_module_q\",f\"{score}, {max_score}\", question_id)\n",
    "os.environ['EARNED_POINTS'] = str(earned_points)\n"
   ]
  },
  {
   "cell_type": "code",
   "execution_count": null,
   "metadata": {},
   "outputs": [],
   "source": [
    "\"\"\" # BEGIN TEST CONFIG\n",
    "points: 1\n",
    "hidden: false\n",
    "success_message: Correctly calculated Iron Man's cosine of 45 degrees.\n",
    "failure_message: Iron Man's cosine calculation is incorrect.\n",
    "\"\"\"  # END TEST CONFIG\n",
    "\n",
    "from pykubegrader.telemetry import (\n",
    "    ensure_responses,\n",
    "    log_variable,\n",
    "    score_question,\n",
    "    submit_question,\n",
    "    telemetry,\n",
    "    update_responses,\n",
    ")\n",
    "import os\n",
    "import base64\n",
    "import matplotlib\n",
    "import matplotlib\n",
    "\n",
    "question_id = \"avengers-mission-modules-2\"\n",
    "max_score = 1.0\n",
    "score = 0\n",
    "matplotlib.use('Agg')\n",
    "\n",
    "# Call the function and capture return values\n",
    "_, iron_cosine, _ = avengers_assemble()\n",
    "\n",
    "# Test for correct calculation of the cosine\n",
    "assert math.isclose(\n",
    "    iron_cosine, 0.707, rel_tol=1e-3\n",
    "), \"Iron Man's cosine calculation is incorrect.\"\n",
    "if (math.isclose( iron_cosine, 0.707, rel_tol=1e-3 )):\n",
    "    score = 1.0\n",
    "\n",
    "earned_points = float(os.environ.get('EARNED_POINTS', 0))\n",
    "earned_points += score\n",
    "log_variable(\"13_module_q\",f\"{score}, {max_score}\", question_id)\n",
    "os.environ['EARNED_POINTS'] = str(earned_points)\n"
   ]
  },
  {
   "cell_type": "code",
   "execution_count": null,
   "metadata": {},
   "outputs": [],
   "source": [
    "\"\"\" # BEGIN TEST CONFIG\n",
    "points: 1\n",
    "hidden: false\n",
    "success_message: Correctly calculated Captain America's LCM.\n",
    "failure_message: Captain America's LCM calculation is incorrect.\n",
    "\"\"\"  # END TEST CONFIG\n",
    "\n",
    "from pykubegrader.telemetry import (\n",
    "    ensure_responses,\n",
    "    log_variable,\n",
    "    score_question,\n",
    "    submit_question,\n",
    "    telemetry,\n",
    "    update_responses,\n",
    ")\n",
    "import os\n",
    "import base64\n",
    "import matplotlib\n",
    "import matplotlib\n",
    "\n",
    "question_id = \"avengers-mission-modules-3\"\n",
    "max_score = 1.0\n",
    "score = 0\n",
    "matplotlib.use('Agg')\n",
    "\n",
    "# Call the function and capture return values\n",
    "_, _, cap_lcm = avengers_assemble()\n",
    "\n",
    "# Test for correct calculation of the LCM\n",
    "assert cap_lcm == 36, \"Captain America's LCM calculation is incorrect.\"\n",
    "if (cap_lcm == 36):\n",
    "    score = 1.0\n",
    "\n",
    "earned_points = float(os.environ.get('EARNED_POINTS', 0))\n",
    "earned_points += score\n",
    "log_variable(\"13_module_q\",f\"{score}, {max_score}\", question_id)\n",
    "os.environ['EARNED_POINTS'] = str(earned_points)\n"
   ]
  },
  {
   "cell_type": "raw",
   "metadata": {},
   "source": [
    "# END TESTS"
   ]
  },
  {
   "cell_type": "raw",
   "metadata": {},
   "source": [
    "# END QUESTION"
   ]
  }
 ],
 "metadata": {
  "kernelspec": {
   "display_name": "engr131_dev",
   "language": "python",
   "name": "python3"
  },
  "language_info": {
   "codemirror_mode": {
    "name": "ipython",
    "version": 3
   },
   "file_extension": ".py",
   "mimetype": "text/x-python",
   "name": "python",
   "nbconvert_exporter": "python",
   "pygments_lexer": "ipython3",
   "version": "3.12.7"
  }
 },
 "nbformat": 4,
 "nbformat_minor": 2
}
