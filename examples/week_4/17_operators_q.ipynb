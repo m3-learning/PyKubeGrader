{
 "cells": [
  {
   "cell_type": "markdown",
   "metadata": {},
   "source": [
    "# ❓Python Operators\n",
    "\n",
    "![](./assets/figures/dragon-dining.webp)"
   ]
  },
  {
   "cell_type": "raw",
   "metadata": {},
   "source": [
    "# BEGIN MULTIPLE CHOICE\n",
    "## points: 2\n",
    "## title: Select the Best Answer\n",
    "## question number: 1"
   ]
  },
  {
   "cell_type": "markdown",
   "metadata": {},
   "source": [
    "## Python-Operators\n",
    "### **What is the primary purpose of Python operators?**\n",
    "\n",
    "#### OPTIONS\n",
    "Store data in variables  \n",
    "Perform operations on one or more operands  \n",
    "Define functions  \n",
    "Loop through data  \n",
    "\n",
    "#### SOLUTION\n",
    "Perform operations on one or more operands  \n",
    "\n"
   ]
  },
  {
   "cell_type": "markdown",
   "metadata": {},
   "source": [
    "## Addition-Operator\n",
    "### **Which operator is used for addition in Python?**\n",
    "\n",
    "#### OPTIONS\n",
    "`-`  \n",
    "`*`  \n",
    "`+`  \n",
    "`/`  \n",
    "\n",
    "#### SOLUTION\n",
    "`+`  \n",
    "\n"
   ]
  },
  {
   "cell_type": "raw",
   "metadata": {},
   "source": [
    "# END MULTIPLE CHOICE"
   ]
  },
  {
   "cell_type": "raw",
   "metadata": {
    "vscode": {
     "languageId": "raw"
    }
   },
   "source": [
    "# BEGIN SELECT MANY\n",
    "## points: 4\n",
    "## title: Select All That Apply\n",
    "## question number: 2\n",
    "## grade: parts"
   ]
  },
  {
   "cell_type": "markdown",
   "metadata": {},
   "source": [
    "## Categories-of-Python-Operators  \n",
    "### **Select all categories of Python operators:** (Select all that apply)  \n",
    "\n",
    "#### OPTIONS  \n",
    "Logical  \n",
    "Arithmetic  \n",
    "String Formatting  \n",
    "Membership  \n",
    "\n",
    "#### SOLUTION  \n",
    "Logical  \n",
    "Arithmetic  \n",
    "Membership  \n",
    "\n"
   ]
  },
  {
   "cell_type": "markdown",
   "metadata": {},
   "source": [
    "## Arithmetic-Operators  \n",
    "### **Which of the following are arithmetic operators in Python?** (Select all that apply)  \n",
    "\n",
    "#### OPTIONS  \n",
    "`%`  \n",
    "`**`  \n",
    "`!=`  \n",
    "`+`  \n",
    "\n",
    "#### SOLUTION  \n",
    "`%`  \n",
    "`**`  \n",
    "`+`  "
   ]
  },
  {
   "cell_type": "raw",
   "metadata": {},
   "source": [
    "# END SELECT MANY"
   ]
  },
  {
   "cell_type": "raw",
   "metadata": {},
   "source": [
    "# BEGIN TF\n",
    "## points: 1\n",
    "## title: Select if the statement is True or False\n",
    "## question number: 3"
   ]
  },
  {
   "cell_type": "markdown",
   "metadata": {},
   "source": [
    "## multiplication-operator\n",
    "### **The `/` operator in Python is used for multiplication.**\n",
    "\n",
    "#### SOLUTION\n",
    "False\n",
    "\n"
   ]
  },
  {
   "cell_type": "markdown",
   "metadata": {},
   "source": [
    "## Logical-Operators\n",
    "### **Logical operators in Python include `and`, `or`, and `not`.**\n",
    "\n",
    "#### SOLUTION\n",
    "True"
   ]
  },
  {
   "cell_type": "raw",
   "metadata": {},
   "source": [
    "# END TF"
   ]
  }
 ],
 "metadata": {
  "kernelspec": {
   "display_name": "engr131_dev",
   "language": "python",
   "name": "python3"
  },
  "language_info": {
   "codemirror_mode": {
    "name": "ipython",
    "version": 3
   },
   "file_extension": ".py",
   "mimetype": "text/x-python",
   "name": "python",
   "nbconvert_exporter": "python",
   "pygments_lexer": "ipython3",
   "version": "3.12.7"
  }
 },
 "nbformat": 4,
 "nbformat_minor": 2
}
