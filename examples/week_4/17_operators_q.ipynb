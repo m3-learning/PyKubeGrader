{
 "cells": [
  {
   "cell_type": "markdown",
   "metadata": {},
   "source": [
    "# ❓Python Operators\n",
    "\n",
    "![](./assets/figures/dragon-dining.webp)"
   ]
  },
  {
   "cell_type": "raw",
   "metadata": {},
   "source": [
    "# BEGIN MULTIPLE CHOICE\n",
    "## points: 2\n",
    "## title: Select the Best Answer\n",
    "## question number: 1"
   ]
  },
  {
   "cell_type": "markdown",
   "metadata": {},
   "source": [
    "## Python-Operators\n",
    "### **What is the primary purpose of Python operators?**\n",
    "\n",
    "#### OPTIONS\n",
    "Store data in variables  \n",
    "Perform operations on one or more operands  \n",
    "Define functions  \n",
    "Loop through data  \n",
    "\n",
    "#### SOLUTION\n",
    "Perform operations on one or more operands  \n",
    "\n"
   ]
  },
  {
   "cell_type": "markdown",
   "metadata": {},
   "source": [
    "## Addition-Operator\n",
    "### **Which operator is used for addition in Python?**\n",
    "\n",
    "#### OPTIONS\n",
    "`-`  \n",
    "`*`  \n",
    "`+`  \n",
    "`/`  \n",
    "\n",
    "#### SOLUTION\n",
    "`+`  \n",
    "\n"
   ]
  },
  {
   "cell_type": "raw",
   "metadata": {},
   "source": [
    "# END MULTIPLE CHOICE"
   ]
  },
  {
   "cell_type": "raw",
   "metadata": {
    "vscode": {
     "languageId": "raw"
    }
   },
   "source": [
    "# BEGIN SELECT MANY\n",
    "## points: 4\n",
    "## title: Select All That Apply\n",
    "## question number: 2\n",
    "## grade: parts"
   ]
  },
  {
   "cell_type": "markdown",
   "metadata": {},
   "source": [
    "## Categories-of-Python-Operators  \n",
    "### **Select all categories of Python operators:** (Select all that apply)  \n",
    "\n",
    "#### OPTIONS  \n",
    "Logical  \n",
    "Arithmetic  \n",
    "String Formatting  \n",
    "Membership  \n",
    "\n",
    "#### SOLUTION  \n",
    "Logical  \n",
    "Arithmetic  \n",
    "Membership  \n",
    "\n"
   ]
  },
  {
   "cell_type": "markdown",
   "metadata": {},
   "source": [
    "## Arithmetic-Operators  \n",
    "### **Which of the following are arithmetic operators in Python?** (Select all that apply)  \n",
    "\n",
    "#### OPTIONS  \n",
    "`%`  \n",
    "`**`  \n",
    "`!=`  \n",
    "`+`  \n",
    "\n",
    "#### SOLUTION  \n",
    "`%`  \n",
    "`**`  \n",
    "`+`  "
   ]
  },
  {
   "cell_type": "raw",
   "metadata": {},
   "source": [
    "# END SELECT MANY"
   ]
  },
  {
   "cell_type": "raw",
   "metadata": {},
   "source": [
    "# BEGIN TF\n",
    "## points: 1\n",
    "## title: Select if the statement is True or False\n",
    "## question number: 3"
   ]
  },
  {
   "cell_type": "markdown",
   "metadata": {},
   "source": [
    "## multiplication-operator\n",
    "### **The `/` operator in Python is used for multiplication.**\n",
    "\n",
    "#### SOLUTION\n",
    "False\n",
    "\n"
   ]
  },
  {
   "cell_type": "markdown",
   "metadata": {},
   "source": [
    "## Logical-Operators\n",
    "### **Logical operators in Python include `and`, `or`, and `not`.**\n",
    "\n",
    "#### SOLUTION\n",
    "True"
   ]
  },
  {
   "cell_type": "raw",
   "metadata": {},
   "source": [
    "# END TF"
   ]
  },
  {
   "cell_type": "raw",
   "metadata": {
    "vscode": {
     "languageId": "raw"
    }
   },
   "source": [
    "# ASSIGNMENT CONFIG\n",
    "solutions_pdf: true\n",
    "generate: \n",
    "    pdf: true\n",
    "    filtering: true\n",
    "    pagebreaks: true\n",
    "    zips: false\n",
    "files: [.client_private_key.bin, .server_public_key.bin]"
   ]
  },
  {
   "cell_type": "raw",
   "metadata": {
    "vscode": {
     "languageId": "raw"
    }
   },
   "source": [
    "# BEGIN QUESTION\n",
    "name: question-operators-mario-dining"
   ]
  },
  {
   "cell_type": "markdown",
   "id": "15",
   "metadata": {},
   "source": [
    "## Instructions\n",
    "\n",
    "**\"Mario the Dragon and the Handschumacher Dining Center Feast\"**\n",
    "\n",
    "Mario, the dragon mascot of Drexel, loves the Handschumacher Dining Center. Every week, he calculates his meal consumption to plan his legendary feasts. Mario knows he eats **21 meals per week** (3 meals per day for 7 days). However, Mario is curious about how his meal plan aligns with his love of sharing.\n",
    "\n",
    "Write a function named `mario_meal_plan()` that:\n",
    "1. **Calculates the total number of meals Mario eats in a week.**\n",
    "2. **Determines if the total meals can be split evenly among his 6 dragon friends** (including himself).  \n",
    "3. **Returns a string with the results**. If the meals are evenly distributed, the string should say:  \n",
    "   `\"Mario's meals divide evenly among 6 dragons, with each dragon eating X meals.\"`  \n",
    "   Otherwise, the string should say:  \n",
    "   `\"Mario's meals do not divide evenly among 6 dragons, leaving Y extra meals.\"`  \n",
    "\n",
    "### Example Outputs:\n",
    "- `\"Mario's meals divide evenly among 6 dragons, with each dragon eating 3 meals.\"`\n",
    "- `\"Mario's meals do not divide evenly among 6 dragons, leaving 1 extra meal.\"`\n"
   ]
  },
  {
   "cell_type": "raw",
   "metadata": {
    "vscode": {
     "languageId": "raw"
    }
   },
   "source": [
    "# BEGIN SOLUTION"
   ]
  },
  {
   "cell_type": "code",
   "execution_count": null,
   "id": "17",
   "metadata": {},
   "outputs": [],
   "source": [
    "# Calculate total meals Mario eats in a week, save as a variable `total_meals`\n",
    "total_meals = 21  # SOLUTION\n",
    "\n",
    "# Number of dragons including Mario, save as a variable `num_dragons`\n",
    "num_dragons = 6 # SOLUTION\n",
    "\n",
    "# Calculate meals per dragon and any remainder \n",
    "# names `meals_per_dragon` and `leftover_meals` respectively\n",
    "# BEGIN SOLUTION\n",
    "meals_per_dragon = total_meals // num_dragons\n",
    "leftover_meals = total_meals % num_dragons\n",
    "# END SOLUTION\n",
    "\n",
    "# Do Not Change the print statement\n",
    "# Determine result message\n",
    "if leftover_meals == 0:\n",
    "    print(f\"Mario's meals divide evenly among 6 dragons, with each dragon eating {meals_per_dragon} meals.\")\n",
    "else:\n",
    "    print(f\"Mario's meals do not divide evenly among 6 dragons, leaving {leftover_meals} extra meals.\")"
   ]
  },
  {
   "cell_type": "raw",
   "metadata": {},
   "source": [
    "# END SOLUTION"
   ]
  },
  {
   "cell_type": "raw",
   "metadata": {},
   "source": [
    "# BEGIN TESTS"
   ]
  },
  {
   "cell_type": "code",
   "execution_count": null,
   "metadata": {},
   "outputs": [],
   "source": [
    "\"\"\" # BEGIN TEST CONFIG\n",
    "points: 0.5\n",
    "hidden: false\n",
    "success_message: Correctly assigned the variable `total_meals`.\n",
    "failure_message: The variable `total_meals` is incorrect.\n",
    "\"\"\"  # END TEST CONFIG\n",
    "\n",
    "assert total_meals == 21, \"The variable `total_meals` should be 21.\""
   ]
  },
  {
   "cell_type": "code",
   "execution_count": null,
   "metadata": {},
   "outputs": [],
   "source": [
    "\"\"\" # BEGIN TEST CONFIG\n",
    "points: 0.5\n",
    "hidden: false\n",
    "success_message: Correctly assigned the variable `num_dragons`.\n",
    "failure_message: The variable `num_dragons` is incorrect.\n",
    "\"\"\" # END TEST CONFIG\n",
    "assert num_dragons == 6, \"The variable `num_dragons` should be 6.\"\n"
   ]
  },
  {
   "cell_type": "code",
   "execution_count": null,
   "metadata": {},
   "outputs": [],
   "source": [
    "\"\"\" # BEGIN TEST CONFIG\n",
    "points: 1\n",
    "hidden: false\n",
    "success_message: Correctly calculated `meals_per_dragon`.\n",
    "failure_message: The variable `meals_per_dragon` is incorrect.\n",
    "\"\"\" # END TEST CONFIG\n",
    "assert meals_per_dragon == 3, \"The variable `meals_per_dragon` should be 3.\"\n"
   ]
  },
  {
   "cell_type": "code",
   "execution_count": null,
   "metadata": {},
   "outputs": [],
   "source": [
    "\"\"\" # BEGIN TEST CONFIG\n",
    "points: 1\n",
    "hidden: false\n",
    "success_message: Correctly calculated `leftover_meals`.\n",
    "failure_message: The variable `leftover_meals` is incorrect.\n",
    "\"\"\" # END TEST CONFIG\n",
    "assert leftover_meals == 3, \"The variable `leftover_meals` should be 3.\"\n"
   ]
  },
  {
   "cell_type": "code",
   "execution_count": null,
   "metadata": {},
   "outputs": [],
   "source": [
    "\"\"\" # BEGIN TEST CONFIG\n",
    "points: 1\n",
    "hidden: false\n",
    "success_message: print statement is correct\n",
    "failure_message: print statement is incorrect\n",
    "\"\"\"  # END TEST CONFIG\n",
    "\n",
    "assert (\n",
    "    f\"Mario's meals do not divide evenly among 6 dragons, leaving {leftover_meals} extra meals.\"\n",
    "    == \"Mario's meals do not divide evenly among 6 dragons, leaving 3 extra meals.\"\n",
    "), \"The print statement is incorrect.\""
   ]
  },
  {
   "cell_type": "raw",
   "metadata": {},
   "source": [
    "# END TESTS"
   ]
  },
  {
   "cell_type": "raw",
   "metadata": {},
   "source": [
    "# END QUESTION"
   ]
  }
 ],
 "metadata": {
  "kernelspec": {
   "display_name": "engr131_dev",
   "language": "python",
   "name": "python3"
  },
  "language_info": {
   "codemirror_mode": {
    "name": "ipython",
    "version": 3
   },
   "file_extension": ".py",
   "mimetype": "text/x-python",
   "name": "python",
   "nbconvert_exporter": "python",
   "pygments_lexer": "ipython3",
   "version": "3.12.7"
  }
 },
 "nbformat": 4,
 "nbformat_minor": 2
}
