{
 "cells": [
  {
   "cell_type": "markdown",
   "metadata": {},
   "source": [
    "# ❓ What is Python\n",
    "\n",
    "![](./assets/figures/what_is_python_q.webp)"
   ]
  },
  {
   "cell_type": "raw",
   "metadata": {
    "vscode": {
     "languageId": "raw"
    }
   },
   "source": [
    "# BEGIN MULTIPLE CHOICE\n",
    "## points: 1\n",
    "## title: Select the Best Answer\n",
    "## question number: 1"
   ]
  },
  {
   "cell_type": "markdown",
   "metadata": {},
   "source": [
    "## High-Level-v-Low-Level\n",
    "### **What is a key difference between high-level and low-level programming languages?**\n",
    "\n",
    "#### OPTIONS\n",
    "High-level languages are written directly in binary, while low-level languages use plain English.  \n",
    "Low-level languages are easier to learn and more portable than high-level languages.  \n",
    "High-level languages are closer to human language and must be translated for computers to execute.  \n",
    "High-level languages are specific to one type of computer, while low-level languages are universal.\n",
    "\n",
    "#### SOLUTION\n",
    "High-level languages are closer to human language and must be translated for computers to execute.\n"
   ]
  },
  {
   "cell_type": "markdown",
   "metadata": {},
   "source": [
    "## Python-Advantages\n",
    "### **Which of the following is NOT an advantage of Python?**\n",
    "\n",
    "#### OPTIONS\n",
    "Python programs are easy to write and debug.  \n",
    "Python is a low-level language, so it runs directly on hardware without translation.  \n",
    "Python code is portable and can run on different types of computers.  \n",
    "Python’s syntax is simple and close to natural language.\n",
    "\n",
    "#### SOLUTION\n",
    "Python is a low-level language, so it runs directly on hardware without translation.\n"
   ]
  },
  {
   "cell_type": "markdown",
   "metadata": {},
   "source": [
    "## Python-Interpreter\n",
    "### **What is the primary function of the Python Interpreter?**\n",
    "\n",
    "#### OPTIONS\n",
    "It allows Python to directly control computer hardware.  \n",
    "It translates and executes Python code step by step.  \n",
    "It converts Python code into plain English for easier understanding.  \n",
    "It ensures that Python code is always correct and free of errors.\n",
    "\n",
    "#### SOLUTION\n",
    "It translates and executes Python code step by step."
   ]
  },
  {
   "cell_type": "raw",
   "metadata": {
    "vscode": {
     "languageId": "raw"
    }
   },
   "source": [
    "# END MULTIPLE CHOICE"
   ]
  },
  {
   "cell_type": "raw",
   "metadata": {},
   "source": []
  }
 ],
 "metadata": {
  "kernelspec": {
   "display_name": "engr131_dev",
   "language": "python",
   "name": "python3"
  },
  "language_info": {
   "codemirror_mode": {
    "name": "ipython",
    "version": 3
   },
   "file_extension": ".py",
   "mimetype": "text/x-python",
   "name": "python",
   "nbconvert_exporter": "python",
   "pygments_lexer": "ipython3",
   "version": "3.12.7"
  }
 },
 "nbformat": 4,
 "nbformat_minor": 2
}
